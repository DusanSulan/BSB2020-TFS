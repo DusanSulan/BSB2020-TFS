{
 "cells": [
  {
   "cell_type": "code",
   "execution_count": null,
   "metadata": {},
   "outputs": [],
   "source": [
    "# Import the modules\n",
    "import glob\n",
    "\n",
    "import cv2\n",
    "from matplotlib import pyplot as plt\n",
    "import numpy as np"
   ]
  },
  {
   "cell_type": "code",
   "execution_count": null,
   "metadata": {},
   "outputs": [],
   "source": [
    "import matplotlib\n",
    "matplotlib.rcParams['figure.figsize'] = [12.0, 8.0]\n",
    "matplotlib.rcParams['image.cmap'] = 'gray'"
   ]
  },
  {
   "cell_type": "code",
   "execution_count": null,
   "metadata": {},
   "outputs": [],
   "source": [
    "# Load the images\n",
    "filenames = sorted(glob.glob('./data/cb/cb_*.png'))  # image file names\n",
    "images = []  # list of images\n",
    "for filename in filenames:\n",
    "    images.append(cv2.imread(filename, 0))  # load image in grayscale"
   ]
  },
  {
   "cell_type": "code",
   "execution_count": null,
   "metadata": {},
   "outputs": [],
   "source": [
    "# Find the image with optimal contrast and brightness\n",
    "values = []\n",
    "for image in images:\n",
    "    image = image / 255  # convert pixel values to range 0..1\n",
    "    clipped = (np.sum(image < 0.1) + np.sum(image > 0.9)) / image.size  # calculate ratio of clipped pixels\n",
    "    mean_distance = abs(np.mean(image) - 0.5)  # calculate the distance of the mean to 0.5\n",
    "    std = np.std(image)  # calculate the standard deviation\n",
    "    values.append((clipped, mean_distance, std))\n",
    "\n",
    "# Convert values to NumPy array and normalize them\n",
    "values = np.array(values)\n",
    "values[:, 0] = 1 - (values[:, 0] - np.min(values[:, 0])) / (np.max(values[:, 0]) - np.min(values[:, 0]))\n",
    "values[:, 1] = 1 - (values[:, 1] - np.min(values[:, 1])) / (np.max(values[:, 1]) - np.min(values[:, 1]))\n",
    "values[:, 2] = (values[:, 2] - np.min(values[:, 2])) / (np.max(values[:, 2]) - np.min(values[:, 2]))\n",
    "\n",
    "# Calculate the scores as sum of values\n",
    "scores = np.sum(values, axis=1)\n",
    "\n",
    "max_cb = np.argmax(scores)  # index of image with optimal contrast/brightness"
   ]
  },
  {
   "cell_type": "code",
   "execution_count": null,
   "metadata": {},
   "outputs": [],
   "source": [
    "# Show the result\n",
    "print(\"The optimal contrast/brightness has the image {0}\".format(max_cb))\n",
    "plt.imshow(images[max_cb], cmap='gray')\n",
    "plt.show()"
   ]
  }
 ],
 "metadata": {
  "kernelspec": {
   "display_name": "Python 3",
   "language": "python",
   "name": "python3"
  },
  "language_info": {
   "codemirror_mode": {
    "name": "ipython",
    "version": 3
   },
   "file_extension": ".py",
   "mimetype": "text/x-python",
   "name": "python",
   "nbconvert_exporter": "python",
   "pygments_lexer": "ipython3",
   "version": "3.9.0"
  }
 },
 "nbformat": 4,
 "nbformat_minor": 2
}
