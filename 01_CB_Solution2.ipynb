{
 "cells": [
  {
   "cell_type": "code",
   "execution_count": null,
   "metadata": {},
   "outputs": [],
   "source": [
    "# Import the modules\n",
    "import glob\n",
    "\n",
    "import cv2\n",
    "from matplotlib import pyplot as plt\n",
    "import numpy as np"
   ]
  },
  {
   "cell_type": "code",
   "execution_count": null,
   "metadata": {},
   "outputs": [],
   "source": [
    "import matplotlib\n",
    "matplotlib.rcParams['figure.figsize'] = [12.0, 8.0]\n",
    "matplotlib.rcParams['image.cmap'] = 'gray'"
   ]
  },
  {
   "cell_type": "code",
   "execution_count": null,
   "metadata": {},
   "outputs": [],
   "source": [
    "# Load the images\n",
    "filenames = sorted(glob.glob('./data/cb/cb_*.png'))  # image file names\n",
    "images = []  # list of images\n",
    "for filename in filenames:\n",
    "    images.append(cv2.imread(filename, 0))  # load image in grayscale"
   ]
  },
  {
   "cell_type": "code",
   "execution_count": null,
   "metadata": {},
   "outputs": [],
   "source": [
    "# Find the image with optimal contrast and brightness\n",
    "scores = []\n",
    "bins = 255  # number of histogram's bins\n",
    "ideal = np.array([1 / bins] * bins)  # create ideal normalized histogram\n",
    "for image in images:\n",
    "    hist = np.histogram(image, bins, (0, 255))[0] / image.size  # calculate normalized histogram\n",
    "    score = np.mean(np.square(hist - ideal))  # calculate mean square error\n",
    "    scores.append(score)\n",
    "\n",
    "max_cb = np.argmin(scores)  # index of image with optimal contrast/brightness"
   ]
  },
  {
   "cell_type": "code",
   "execution_count": null,
   "metadata": {},
   "outputs": [],
   "source": [
    "# Show the result\n",
    "print(\"The optimal contrast/brightness has the image {0}\".format(max_cb))\n",
    "plt.imshow(images[max_cb], cmap='gray')\n",
    "plt.show()"
   ]
  }
 ],
 "metadata": {
  "kernelspec": {
   "display_name": "Python 3",
   "language": "python",
   "name": "python3"
  },
  "language_info": {
   "codemirror_mode": {
    "name": "ipython",
    "version": 3
   },
   "file_extension": ".py",
   "mimetype": "text/x-python",
   "name": "python",
   "nbconvert_exporter": "python",
   "pygments_lexer": "ipython3",
   "version": "3.9.0"
  }
 },
 "nbformat": 4,
 "nbformat_minor": 2
}
