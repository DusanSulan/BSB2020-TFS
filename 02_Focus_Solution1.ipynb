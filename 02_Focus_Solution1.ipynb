{
 "cells": [
  {
   "cell_type": "code",
   "execution_count": null,
   "metadata": {},
   "outputs": [],
   "source": [
    "# Import the modules\n",
    "import glob\n",
    "\n",
    "import cv2\n",
    "from matplotlib import pyplot as plt\n",
    "import numpy as np"
   ]
  },
  {
   "cell_type": "code",
   "execution_count": null,
   "metadata": {},
   "outputs": [],
   "source": [
    "import matplotlib\n",
    "matplotlib.rcParams['figure.figsize'] = [12.0, 8.0]\n",
    "matplotlib.rcParams['image.cmap'] = 'gray'"
   ]
  },
  {
   "cell_type": "code",
   "execution_count": null,
   "metadata": {},
   "outputs": [],
   "source": [
    "# Load the images\n",
    "filenames = sorted(glob.glob('./data/focus/focus_*.png'))  # image file names\n",
    "images = []  # list of images\n",
    "for filename in filenames:\n",
    "    images.append(cv2.imread(filename, 0))  # load image in grayscale"
   ]
  },
  {
   "cell_type": "code",
   "execution_count": null,
   "metadata": {},
   "outputs": [],
   "source": [
    "# Find the focused image\n",
    "def get_magnitude_spectrum(img):\n",
    "    \"\"\"Calculate the magnitude spectrum of the input image\"\"\"\n",
    "    import numpy as np\n",
    "    f = np.fft.fft2(img)  # perform FFT\n",
    "    fshift = np.fft.fftshift(f)  # shift the result so the DC component will be in center\n",
    "    magnitude_spectrum = np.log(np.abs(fshift) + 1)  # get magnitude spectrum\n",
    "    return magnitude_spectrum\n",
    "\n",
    "scores = []\n",
    "for image in images:\n",
    "    magnitude_spectrum = get_magnitude_spectrum(image)\n",
    "    score = np.sum(magnitude_spectrum)  # calculate the sum of magnitude spectrum\n",
    "    scores.append(score)\n",
    "\n",
    "# The most focused image has the highest energy so it has the highest sum of magnitude spectrum\n",
    "focused = np.argmax(scores)  # index of the most focused image"
   ]
  },
  {
   "cell_type": "code",
   "execution_count": null,
   "metadata": {},
   "outputs": [],
   "source": [
    "# Show the result\n",
    "print('The most focused is the image {0}'.format(focused))\n",
    "plt.imshow(images[focused], cmap='gray')\n",
    "plt.show()"
   ]
  }
 ],
 "metadata": {
  "kernelspec": {
   "display_name": "Python 3",
   "language": "python",
   "name": "python3"
  },
  "language_info": {
   "codemirror_mode": {
    "name": "ipython",
    "version": 3
   },
   "file_extension": ".py",
   "mimetype": "text/x-python",
   "name": "python",
   "nbconvert_exporter": "python",
   "pygments_lexer": "ipython3",
   "version": "3.9.0"
  }
 },
 "nbformat": 4,
 "nbformat_minor": 2
}
