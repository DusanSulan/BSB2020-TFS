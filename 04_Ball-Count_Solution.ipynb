{
 "cells": [
  {
   "cell_type": "code",
   "execution_count": null,
   "metadata": {},
   "outputs": [],
   "source": [
    "# Import the modules\n",
    "import glob\n",
    "\n",
    "import cv2\n",
    "from matplotlib import pyplot as plt\n",
    "import numpy as np"
   ]
  },
  {
   "cell_type": "code",
   "execution_count": null,
   "metadata": {},
   "outputs": [],
   "source": [
    "import matplotlib\n",
    "matplotlib.rcParams['figure.figsize'] = [12.0, 8.0]\n",
    "matplotlib.rcParams['image.cmap'] = 'gray'"
   ]
  },
  {
   "cell_type": "code",
   "execution_count": null,
   "metadata": {},
   "outputs": [],
   "source": [
    "# Horizontal field width\n",
    "HFW = 133.824e-6\n",
    "\n",
    "# Load the image\n",
    "image = cv2.imread('./data/ball-count/ball-count.png', 0)  # load image in grayscale"
   ]
  },
  {
   "cell_type": "code",
   "execution_count": null,
   "metadata": {},
   "outputs": [],
   "source": [
    "# Find the number of balls which are larger than 5 micrometers\n",
    "pixel_size = HFW / image.shape[1]  # calculate pixel size in meters\n",
    "min_radius = (5e-6 / pixel_size) / 2  # calculate minimal radius in pixels\n",
    "blur = cv2.medianBlur(image, 9)\n",
    "\n",
    "# Use Hough circle transform to detect the circles\n",
    "circles = cv2.HoughCircles(blur, cv2.HOUGH_GRADIENT, 1, 2 * min_radius,\n",
    "                           param1=300, param2=20, minRadius=int(min_radius), \n",
    "                           maxRadius=80)\n",
    "\n",
    "circles = np.uint16(np.around(circles))\n",
    "\n",
    "# Create the image with detected circles\n",
    "cimg = cv2.cvtColor(image, cv2.COLOR_GRAY2BGR)\n",
    "for circle in circles[0, :]:\n",
    "    # draw the center of the circle\n",
    "    cv2.circle(cimg, (circle[0], circle[1]), 2, (255, 0, 0), 3)\n",
    "    # draw the outer circle\n",
    "    cv2.circle(cimg, (circle[0], circle[1]), circle[2], (0, 255, 0), 2)"
   ]
  },
  {
   "cell_type": "code",
   "execution_count": null,
   "metadata": {},
   "outputs": [],
   "source": [
    "# Show the result\n",
    "print(\"Number of detected circles: {0}\".format(len(circles[0,: ])))\n",
    "plt.imshow(cimg)\n",
    "plt.show()"
   ]
  }
 ],
 "metadata": {
  "kernelspec": {
   "display_name": "Python 3",
   "language": "python",
   "name": "python3"
  },
  "language_info": {
   "codemirror_mode": {
    "name": "ipython",
    "version": 3
   },
   "file_extension": ".py",
   "mimetype": "text/x-python",
   "name": "python",
   "nbconvert_exporter": "python",
   "pygments_lexer": "ipython3",
   "version": "3.9.0"
  }
 },
 "nbformat": 4,
 "nbformat_minor": 2
}
